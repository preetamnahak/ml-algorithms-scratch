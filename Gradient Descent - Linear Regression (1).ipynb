{
 "cells": [
  {
   "cell_type": "code",
   "execution_count": 28,
   "id": "84961078",
   "metadata": {},
   "outputs": [
    {
     "data": {
      "text/html": [
       "<div>\n",
       "<style scoped>\n",
       "    .dataframe tbody tr th:only-of-type {\n",
       "        vertical-align: middle;\n",
       "    }\n",
       "\n",
       "    .dataframe tbody tr th {\n",
       "        vertical-align: top;\n",
       "    }\n",
       "\n",
       "    .dataframe thead th {\n",
       "        text-align: right;\n",
       "    }\n",
       "</style>\n",
       "<table border=\"1\" class=\"dataframe\">\n",
       "  <thead>\n",
       "    <tr style=\"text-align: right;\">\n",
       "      <th></th>\n",
       "      <th>x</th>\n",
       "      <th>y</th>\n",
       "    </tr>\n",
       "  </thead>\n",
       "  <tbody>\n",
       "    <tr>\n",
       "      <th>0</th>\n",
       "      <td>24</td>\n",
       "      <td>21.549452</td>\n",
       "    </tr>\n",
       "    <tr>\n",
       "      <th>1</th>\n",
       "      <td>50</td>\n",
       "      <td>47.464463</td>\n",
       "    </tr>\n",
       "    <tr>\n",
       "      <th>2</th>\n",
       "      <td>15</td>\n",
       "      <td>17.218656</td>\n",
       "    </tr>\n",
       "    <tr>\n",
       "      <th>3</th>\n",
       "      <td>38</td>\n",
       "      <td>36.586398</td>\n",
       "    </tr>\n",
       "    <tr>\n",
       "      <th>4</th>\n",
       "      <td>87</td>\n",
       "      <td>87.288984</td>\n",
       "    </tr>\n",
       "  </tbody>\n",
       "</table>\n",
       "</div>"
      ],
      "text/plain": [
       "    x          y\n",
       "0  24  21.549452\n",
       "1  50  47.464463\n",
       "2  15  17.218656\n",
       "3  38  36.586398\n",
       "4  87  87.288984"
      ]
     },
     "execution_count": 28,
     "metadata": {},
     "output_type": "execute_result"
    }
   ],
   "source": [
    "import pandas as pd\n",
    "import numpy as np\n",
    "import matplotlib.pyplot as plt\n",
    "\n",
    "df = pd.read_csv(\"E:\\\\Notebooks\\\\train.csv\")\n",
    "df = df.dropna()\n",
    "df.head()"
   ]
  },
  {
   "cell_type": "code",
   "execution_count": 29,
   "id": "7b498a5f",
   "metadata": {},
   "outputs": [],
   "source": [
    "#prediction function\n",
    "def predict(X, theta):\n",
    "    #print(\"Multiplying X and theta. X shape: \", X.shape, \" Theta shape: \", theta.shape)\n",
    "    return np.matmul(X,theta)"
   ]
  },
  {
   "cell_type": "code",
   "execution_count": 36,
   "id": "892626d9",
   "metadata": {},
   "outputs": [],
   "source": [
    "def calcCost(errors):\n",
    "    squared_err = errors*errors\n",
    "    mse = np.sum(squared_err)/(2*len(errors))\n",
    "    return mse\n",
    "    "
   ]
  },
  {
   "cell_type": "code",
   "execution_count": 37,
   "id": "488be176",
   "metadata": {},
   "outputs": [],
   "source": [
    "def gradientDescent(X, Y, learning_rate, iterations):\n",
    "    theta = np.zeros(X.shape[1])\n",
    "    theta = theta.reshape(2,1)\n",
    "    costs = []\n",
    "    for i in range(0, iterations):\n",
    "        predicted = predict(X, theta)\n",
    "        #print(\"Prediction shape\", predicted.shape)\n",
    "        errors = predicted - Y\n",
    "        costs.append(calcCost(errors))\n",
    "        #print(\"Error shape: \", errors.shape)\n",
    "        #print(\"X shape: \", X.T.shape)\n",
    "        gradient = (1/len(Y))*np.matmul(X.T, errors)\n",
    "        #print(\"Gradient Shape \", gradient, gradient.shape)\n",
    "        theta = theta - learning_rate*gradient\n",
    "        #print(\"New theta:  \", theta)\n",
    "    return theta, costs\n",
    "    "
   ]
  },
  {
   "cell_type": "code",
   "execution_count": 58,
   "id": "f42a4868",
   "metadata": {},
   "outputs": [
    {
     "name": "stdout",
     "output_type": "stream",
     "text": [
      "X shape:  (99, 2)\n",
      "Y shape:  (99, 1)\n",
      "Final theta  [[0.01769622]\n",
      " [0.99782386]]\n"
     ]
    }
   ],
   "source": [
    "#Start training\n",
    "\n",
    "X = df['x']\n",
    "Y = df['y']\n",
    "\n",
    "bias = np.ones(len(X))\n",
    "bias = pd.Series(bias)\n",
    "X = pd.merge(bias.to_frame(), X.to_frame(), left_index=True, right_index=True)\n",
    "X = np.array(X)\n",
    "\n",
    "Y = np.array(Y)\n",
    "Y = Y.reshape(len(Y),1)\n",
    "\n",
    "# theta = np.zeros(X.shape[1])\n",
    "# theta = theta.reshape(2,1)\n",
    "\n",
    "# print(\"Theta shape: \", theta.shape)\n",
    "print(\"X shape: \", X.shape)\n",
    "print(\"Y shape: \", Y.shape)\n",
    "\n",
    "learning_rate = 0.000005 #the less is the learning rate is, the less steep the cost curve will be. That means we will slowly move towards the minimum\n",
    "iterations = 1500\n",
    "theta, costs = gradientDescent(X, Y, learning_rate, iterations)\n",
    "print(\"Final theta \", theta)"
   ]
  },
  {
   "cell_type": "code",
   "execution_count": 59,
   "id": "8c602e10",
   "metadata": {},
   "outputs": [
    {
     "data": {
      "text/plain": [
       "Text(0, 0.5, 'Cost')"
      ]
     },
     "execution_count": 59,
     "metadata": {},
     "output_type": "execute_result"
    },
    {
     "data": {
      "image/png": "[encoded data removed]",
      "text/plain": [
       "<Figure size 640x480 with 1 Axes>"
      ]
     },
     "metadata": {},
     "output_type": "display_data"
    }
   ],
   "source": [
    "#Plot cost graph\n",
    "plt.plot(costs, label='Cost')\n",
    "plt.xlabel(xlabel = \"Iterations\")\n",
    "plt.ylabel(ylabel = \"Cost\")"
   ]
  },
  {
   "cell_type": "code",
   "execution_count": null,
   "id": "5cb6077f",
   "metadata": {},
   "outputs": [],
   "source": []
  }
 ],
 "metadata": {
  "kernelspec": {
   "display_name": "Python 3 (ipykernel)",
   "language": "python",
   "name": "python3"
  },
  "language_info": {
   "codemirror_mode": {
    "name": "ipython",
    "version": 3
   },
   "file_extension": ".py",
   "mimetype": "text/x-python",
   "name": "python",
   "nbconvert_exporter": "python",
   "pygments_lexer": "ipython3",
   "version": "3.7.9"
  }
 },
 "nbformat": 4,
 "nbformat_minor": 5
}
