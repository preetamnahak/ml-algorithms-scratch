{
 "cells": [
  {
   "cell_type": "code",
   "execution_count": 1,
   "id": "84961078",
   "metadata": {},
   "outputs": [
    {
     "data": {
      "text/html": [
       "<div>\n",
       "<style scoped>\n",
       "    .dataframe tbody tr th:only-of-type {\n",
       "        vertical-align: middle;\n",
       "    }\n",
       "\n",
       "    .dataframe tbody tr th {\n",
       "        vertical-align: top;\n",
       "    }\n",
       "\n",
       "    .dataframe thead th {\n",
       "        text-align: right;\n",
       "    }\n",
       "</style>\n",
       "<table border=\"1\" class=\"dataframe\">\n",
       "  <thead>\n",
       "    <tr style=\"text-align: right;\">\n",
       "      <th></th>\n",
       "      <th>mean_radius</th>\n",
       "      <th>mean_texture</th>\n",
       "      <th>mean_perimeter</th>\n",
       "      <th>mean_area</th>\n",
       "      <th>mean_smoothness</th>\n",
       "      <th>diagnosis</th>\n",
       "    </tr>\n",
       "  </thead>\n",
       "  <tbody>\n",
       "    <tr>\n",
       "      <th>0</th>\n",
       "      <td>17.99</td>\n",
       "      <td>10.38</td>\n",
       "      <td>122.80</td>\n",
       "      <td>1001.0</td>\n",
       "      <td>0.11840</td>\n",
       "      <td>0</td>\n",
       "    </tr>\n",
       "    <tr>\n",
       "      <th>1</th>\n",
       "      <td>20.57</td>\n",
       "      <td>17.77</td>\n",
       "      <td>132.90</td>\n",
       "      <td>1326.0</td>\n",
       "      <td>0.08474</td>\n",
       "      <td>0</td>\n",
       "    </tr>\n",
       "    <tr>\n",
       "      <th>2</th>\n",
       "      <td>19.69</td>\n",
       "      <td>21.25</td>\n",
       "      <td>130.00</td>\n",
       "      <td>1203.0</td>\n",
       "      <td>0.10960</td>\n",
       "      <td>0</td>\n",
       "    </tr>\n",
       "    <tr>\n",
       "      <th>3</th>\n",
       "      <td>11.42</td>\n",
       "      <td>20.38</td>\n",
       "      <td>77.58</td>\n",
       "      <td>386.1</td>\n",
       "      <td>0.14250</td>\n",
       "      <td>0</td>\n",
       "    </tr>\n",
       "    <tr>\n",
       "      <th>4</th>\n",
       "      <td>20.29</td>\n",
       "      <td>14.34</td>\n",
       "      <td>135.10</td>\n",
       "      <td>1297.0</td>\n",
       "      <td>0.10030</td>\n",
       "      <td>0</td>\n",
       "    </tr>\n",
       "  </tbody>\n",
       "</table>\n",
       "</div>"
      ],
      "text/plain": [
       "   mean_radius  mean_texture  mean_perimeter  mean_area  mean_smoothness  \\\n",
       "0        17.99         10.38          122.80     1001.0          0.11840   \n",
       "1        20.57         17.77          132.90     1326.0          0.08474   \n",
       "2        19.69         21.25          130.00     1203.0          0.10960   \n",
       "3        11.42         20.38           77.58      386.1          0.14250   \n",
       "4        20.29         14.34          135.10     1297.0          0.10030   \n",
       "\n",
       "   diagnosis  \n",
       "0          0  \n",
       "1          0  \n",
       "2          0  \n",
       "3          0  \n",
       "4          0  "
      ]
     },
     "execution_count": 1,
     "metadata": {},
     "output_type": "execute_result"
    }
   ],
   "source": [
    "import pandas as pd\n",
    "import numpy as np\n",
    "import matplotlib.pyplot as plt\n",
    "\n",
    "df = pd.read_csv(\"E:\\\\Notebooks\\\\breast_cancer_logistic_regression.csv\")\n",
    "df = df.dropna()\n",
    "df.head()"
   ]
  },
  {
   "cell_type": "code",
   "execution_count": 20,
   "id": "1844a372",
   "metadata": {},
   "outputs": [],
   "source": [
    "#sigmoid\n",
    "def sigmoid(x):\n",
    "    return 1/(1 +  np.exp(-1*x))"
   ]
  },
  {
   "cell_type": "code",
   "execution_count": 50,
   "id": "7b498a5f",
   "metadata": {},
   "outputs": [],
   "source": [
    "#prediction function\n",
    "def predict(X, theta):\n",
    "    #print(\"Multiplying X and theta. X shape: \", X.shape, \" Theta shape: \", theta.shape)\n",
    "    return sigmoid(np.matmul(X,theta))"
   ]
  },
  {
   "cell_type": "code",
   "execution_count": 51,
   "id": "892626d9",
   "metadata": {},
   "outputs": [],
   "source": [
    "def calcCost(Y, predicted):\n",
    "    #log loss error function to be defined here\n",
    "    error = -1*Y*np.log(predicted) - (1-Y)*np.log(1-predicted)\n",
    "    cost = np.sum(error)/len(Y)\n",
    "    return cost\n",
    "    "
   ]
  },
  {
   "cell_type": "code",
   "execution_count": 52,
   "id": "488be176",
   "metadata": {},
   "outputs": [],
   "source": [
    "def gradientDescent(X, Y, learning_rate, iterations):\n",
    "    theta = np.zeros(X.shape[1])\n",
    "    theta = theta.reshape(X.shape[1],1)\n",
    "    costs = []\n",
    "    for i in range(0, iterations):\n",
    "        predicted = predict(X, theta)\n",
    "        #print(\"Prediction shape\", predicted.shape, theta)\n",
    "        #print(predicted)\n",
    "        errors = predicted - Y\n",
    "        #print(Y)\n",
    "        costs.append(calcCost(Y, predicted))\n",
    "        #print(\"Error shape: \", errors.shape)\n",
    "        #print(\"X shape: \", X.T.shape)\n",
    "        gradient = (1/len(Y))*np.matmul(X.T, errors)\n",
    "        #print(\"Gradient Shape \", gradient, gradient.shape)\n",
    "        theta = theta - learning_rate*gradient\n",
    "        #print(\"New theta:  \", theta)\n",
    "    return theta, costs\n",
    "    "
   ]
  },
  {
   "cell_type": "code",
   "execution_count": 56,
   "id": "f42a4868",
   "metadata": {},
   "outputs": [
    {
     "name": "stdout",
     "output_type": "stream",
     "text": [
      "X shape:  (569, 6)\n",
      "Y shape:  (569, 1)\n",
      "Final theta  [[ 0.00190373]\n",
      " [ 0.01348932]\n",
      " [ 0.02074984]\n",
      " [ 0.07777634]\n",
      " [-0.01158578]\n",
      " [ 0.00012885]]\n"
     ]
    }
   ],
   "source": [
    "#Start training\n",
    "\n",
    "X = df.iloc[:, 0:5]\n",
    "Y = df['diagnosis']\n",
    "\n",
    "bias = np.ones(len(X))\n",
    "bias = pd.Series(bias)\n",
    "X = pd.merge(bias.to_frame(), X, left_index=True, right_index=True)\n",
    "X = np.array(X)\n",
    "\n",
    "Y = np.array(Y)\n",
    "Y = Y.reshape(len(Y),1)\n",
    "\n",
    "# theta = np.zeros(X.shape[1])\n",
    "# theta = theta.reshape(2,1)\n",
    "\n",
    "# print(\"Theta shape: \", theta.shape)\n",
    "print(\"X shape: \", X.shape)\n",
    "print(\"Y shape: \", Y.shape)\n",
    "\n",
    "learning_rate = 0.000009 #the less is the learning rate is, the less steep the cost curve will be. That means we will slowly move towards the minimum\n",
    "iterations = 3000\n",
    "theta, costs = gradientDescent(X, Y, learning_rate, iterations)\n",
    "print(\"Final theta \", theta)\n",
    "# print(costs)"
   ]
  },
  {
   "cell_type": "code",
   "execution_count": 57,
   "id": "8c602e10",
   "metadata": {},
   "outputs": [
    {
     "name": "stdout",
     "output_type": "stream",
     "text": [
      "3000\n"
     ]
    },
    {
     "data": {
      "image/png": "[encoded data removed]",
      "text/plain": [
       "<Figure size 640x480 with 1 Axes>"
      ]
     },
     "metadata": {},
     "output_type": "display_data"
    }
   ],
   "source": [
    "#Plot cost graph\n",
    "plt.plot(costs, label='Cost')\n",
    "plt.xlabel(xlabel = \"Iterations\")\n",
    "plt.ylabel(ylabel = \"Cost\")\n",
    "print(len(costs))"
   ]
  },
  {
   "cell_type": "code",
   "execution_count": null,
   "id": "5cb6077f",
   "metadata": {},
   "outputs": [],
   "source": []
  },
  {
   "cell_type": "code",
   "execution_count": null,
   "id": "1310847d",
   "metadata": {},
   "outputs": [],
   "source": []
  }
 ],
 "metadata": {
  "kernelspec": {
   "display_name": "Python 3 (ipykernel)",
   "language": "python",
   "name": "python3"
  },
  "language_info": {
   "codemirror_mode": {
    "name": "ipython",
    "version": 3
   },
   "file_extension": ".py",
   "mimetype": "text/x-python",
   "name": "python",
   "nbconvert_exporter": "python",
   "pygments_lexer": "ipython3",
   "version": "3.7.9"
  }
 },
 "nbformat": 4,
 "nbformat_minor": 5
}
