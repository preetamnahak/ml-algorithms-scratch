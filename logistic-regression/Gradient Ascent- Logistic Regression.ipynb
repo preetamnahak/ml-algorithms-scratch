{
 "cells": [
  {
   "cell_type": "code",
   "execution_count": 87,
   "id": "84961078",
   "metadata": {},
   "outputs": [
    {
     "name": "stdout",
     "output_type": "stream",
     "text": [
      "(569, 6)\n",
      "(170,)\n"
     ]
    }
   ],
   "source": [
    "import pandas as pd\n",
    "import numpy as np\n",
    "import matplotlib.pyplot as plt\n",
    "\n",
    "df = pd.read_csv(\"E:\\\\Notebooks\\\\breast_cancer_logistic_regression.csv\")\n",
    "df = df.dropna()\n",
    "df.head()\n",
    "\n",
    "print(df.shape)\n",
    "m = df.shape[0]\n",
    "m_train = int(m*0.7)\n",
    "X_train = df.iloc[:m_train, 0:5] #take 70 percent data for training\n",
    "Y_train = df.iloc[:m_train, 5]\n",
    "\n",
    "X_test = df.iloc[m_train+1: , 0:5]\n",
    "Y_test = df.iloc[m_train+1: , 5]\n",
    "print(Y_test.shape)"
   ]
  },
  {
   "cell_type": "code",
   "execution_count": 88,
   "id": "1844a372",
   "metadata": {},
   "outputs": [],
   "source": [
    "#sigmoid\n",
    "def sigmoid(x):\n",
    "    return 1/(1 +  np.exp(-1*x))"
   ]
  },
  {
   "cell_type": "code",
   "execution_count": 89,
   "id": "7b498a5f",
   "metadata": {},
   "outputs": [],
   "source": [
    "#prediction function\n",
    "def predict(X, theta):\n",
    "    #print(\"Multiplying X and theta. X shape: \", X.shape, \" Theta shape: \", theta.shape)\n",
    "    return sigmoid(np.matmul(X,theta))"
   ]
  },
  {
   "cell_type": "code",
   "execution_count": 90,
   "id": "892626d9",
   "metadata": {},
   "outputs": [],
   "source": [
    "def calcCost(Y, predicted):\n",
    "    #log loss error function to be defined here\n",
    "    error = -1*Y*np.log(predicted) - (1-Y)*np.log(1-predicted)\n",
    "    cost = np.sum(error)/len(Y)\n",
    "    return cost\n",
    "    "
   ]
  },
  {
   "cell_type": "code",
   "execution_count": 91,
   "id": "488be176",
   "metadata": {},
   "outputs": [],
   "source": [
    "def gradientDescent(X, Y, learning_rate, iterations):\n",
    "    theta = np.zeros(X.shape[1])\n",
    "    theta = theta.reshape(X.shape[1],1)\n",
    "    costs = []\n",
    "    for i in range(0, iterations):\n",
    "        predicted = predict(X, theta)\n",
    "        #print(\"Prediction shape\", predicted.shape, theta)\n",
    "        #print(predicted)\n",
    "        errors = predicted - Y\n",
    "        #print(Y)\n",
    "        costs.append(calcCost(Y, predicted))\n",
    "        #print(\"Error shape: \", errors.shape)\n",
    "        #print(\"X shape: \", X.T.shape)\n",
    "        gradient = (1/len(Y))*np.matmul(X.T, errors)\n",
    "        #print(\"Gradient Shape \", gradient, gradient.shape)\n",
    "        theta = theta - learning_rate*gradient\n",
    "        #print(\"New theta:  \", theta)\n",
    "    return theta, costs\n",
    "    "
   ]
  },
  {
   "cell_type": "code",
   "execution_count": 98,
   "id": "f42a4868",
   "metadata": {},
   "outputs": [
    {
     "name": "stdout",
     "output_type": "stream",
     "text": [
      "X shape:  (398, 6)\n",
      "Y shape:  (398, 1)\n",
      "Final theta  [[ 0.00202007]\n",
      " [ 0.01411919]\n",
      " [ 0.01729799]\n",
      " [ 0.08033314]\n",
      " [-0.0123068 ]\n",
      " [ 0.00012426]]\n"
     ]
    }
   ],
   "source": [
    "#Start training\n",
    "\n",
    "X = X_train\n",
    "Y = Y_train\n",
    "\n",
    "bias = np.ones(len(X))\n",
    "bias = pd.Series(bias)\n",
    "X = pd.merge(bias.to_frame(), X, left_index=True, right_index=True)\n",
    "X = np.array(X)\n",
    "\n",
    "Y = np.array(Y)\n",
    "Y = Y.reshape(len(Y),1)\n",
    "\n",
    "# theta = np.zeros(X.shape[1])\n",
    "# theta = theta.reshape(2,1)\n",
    "\n",
    "# print(\"Theta shape: \", theta.shape)\n",
    "print(\"X shape: \", X.shape)\n",
    "print(\"Y shape: \", Y.shape)\n",
    "\n",
    "learning_rate = 0.000009 #the less is the learning rate is, the less steep the cost curve will be. That means we will slowly move towards the minimum\n",
    "iterations = 3500\n",
    "theta, costs = gradientDescent(X, Y, learning_rate, iterations)\n",
    "print(\"Final theta \", theta)\n",
    "# print(costs)"
   ]
  },
  {
   "cell_type": "code",
   "execution_count": 99,
   "id": "8c602e10",
   "metadata": {},
   "outputs": [
    {
     "name": "stdout",
     "output_type": "stream",
     "text": [
      "3500\n"
     ]
    },
    {
     "data": {
      "image/png": "[encoded data removed]",
      "text/plain": [
       "<Figure size 640x480 with 1 Axes>"
      ]
     },
     "metadata": {},
     "output_type": "display_data"
    }
   ],
   "source": [
    "#Plot cost graph\n",
    "plt.plot(costs, label='Cost')\n",
    "plt.xlabel(xlabel = \"Iterations\")\n",
    "plt.ylabel(ylabel = \"Cost\")\n",
    "print(len(costs))"
   ]
  },
  {
   "cell_type": "code",
   "execution_count": 100,
   "id": "5cb6077f",
   "metadata": {},
   "outputs": [
    {
     "name": "stdout",
     "output_type": "stream",
     "text": [
      "Prediction accuracy on test data is 88.23529411764706\n"
     ]
    }
   ],
   "source": [
    "#Check on test data and check accuracy\n",
    "X = X_test\n",
    "Y = Y_test\n",
    "\n",
    "bias = np.ones(len(X))\n",
    "X['bias'] = bias\n",
    "\n",
    "cols = list(X.columns)\n",
    "cols.remove('bias')\n",
    "\n",
    "# Step 2: Insert the new_column at the beginning of the list\n",
    "cols.insert(0, 'bias')\n",
    "\n",
    "# Step 3: Reorder the DataFrame with the new column at the beginning\n",
    "X = X[cols]\n",
    "\n",
    "Y = np.array(Y)\n",
    "Y = Y.reshape(len(Y),1)\n",
    "\n",
    "#z = np.matmul(X, theta) + bias\n",
    "prediction = predict(X, theta)\n",
    "prediction =  prediction > 0.5 #if prediction is > 0.5 then label as 1 else 0\n",
    "prediction = np.array(prediction, dtype='int64')\n",
    "\n",
    "accuracy = (1 - np.sum(np.absolute(prediction - Y))/Y.shape[0])*100\n",
    "print(\"Prediction accuracy on test data is\", accuracy)"
   ]
  },
  {
   "cell_type": "code",
   "execution_count": null,
   "id": "1310847d",
   "metadata": {},
   "outputs": [],
   "source": []
  },
  {
   "cell_type": "code",
   "execution_count": null,
   "id": "a01ca747",
   "metadata": {},
   "outputs": [],
   "source": []
  }
 ],
 "metadata": {
  "kernelspec": {
   "display_name": "Python 3 (ipykernel)",
   "language": "python",
   "name": "python3"
  },
  "language_info": {
   "codemirror_mode": {
    "name": "ipython",
    "version": 3
   },
   "file_extension": ".py",
   "mimetype": "text/x-python",
   "name": "python",
   "nbconvert_exporter": "python",
   "pygments_lexer": "ipython3",
   "version": "3.7.9"
  }
 },
 "nbformat": 4,
 "nbformat_minor": 5
}
